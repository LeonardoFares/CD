{
 "cells": [
  {
   "cell_type": "markdown",
   "metadata": {},
   "source": [
    "___\n",
    "# Atividade: Soma de variáveis aleatórias \n",
    "___\n",
    "\n",
    "## Aula 17\n",
    "\n",
    "**Preparo Prévio:**\n",
    "1. Seção 5.1 – págs 137 a 140: aborda como fazer uma distribuição de probabilidade conjunta entre duas variáveis aleatórias X e Y e define função de probabilidade conjunta.\n",
    "2. Seção 5.2 – págs 146 a 149; págs 156 e 157 (Exemplo 5.12) e págs 158 a 162 (Exemplo 5.13): aborda propriedades de esperança e variância em soma de variáveis aleatórias (X+Y). \n",
    "\n",
    "**Hoje:**\n",
    "1. Descrever as propriedades de distribuição conjunta entre duas variáveis aleatórias discretas.\n",
    "2. Compreender correlação entre variáveis aleatórias.\n",
    "3. Descrever as propriedades de esperança e variância para soma de variáveis aleatórias (discretas e contínuas).\n",
    "\n",
    "\n",
    "**Próxima aula:**\n",
    "1.\tLeitura prévia necessária: Magalhães e Lima (7ª. Edição): Seção 7.3 (págs 234 a 240).\n",
    "___"
   ]
  },
  {
   "cell_type": "code",
   "execution_count": 1,
   "metadata": {
    "collapsed": false
   },
   "outputs": [],
   "source": [
    "%matplotlib inline\n",
    "\n",
    "import os\n",
    "import matplotlib.pyplot as plt\n",
    "import pandas as pd\n",
    "import numpy as np\n",
    "from scipy import stats\n"
   ]
  },
  {
   "cell_type": "markdown",
   "metadata": {},
   "source": [
    "___\n",
    "## <font color='blue'>Exercício 1 - Exemplo 3 da Aula 17 </font>\n",
    "\n",
    "Num determinado momento em um certo país, a taxa de juros ($X$) pode variar 0,25 pontos percentuais (pp), para cima ou para baixo, ou manter-se constante. \n",
    "Já a taxa de câmbio ($Y$) pode variar para mais ou para menos em 1 pp, ou manter-se constante.\n",
    "A tabela seguinte reflete as distribuições marginais e conjunta dessas duas taxas representadas, aqui, por $X$ e $Y$. \n",
    "\n",
    "![Tabela](XeY.png)\n",
    "\n",
    "Um investidor aplica a mesma quantia num fundo que acompanha a variação da taxa de juros ($X$) e num fundo que acompanha a variação cambial ($Y$). Ao final do dia ele resgatará seu investimento.\n",
    "1. Encontre a $E(X)$, $Var(X)$, $E(Y)$, $Var(Y)$, $Cov(X,Y)$ e $Corr(X,Y)$.\n",
    "2. Construa a distribuição de probabilidades do ganho (em variação %) desse investidor, ou seja, encontre todos os valores de $G=0.5*X+0.5*Y$, sendo $G$ o ganho do investidor aplicando metade do dinheiro em $X$ e metade do dinheiro em $Y$. \n",
    "3. Calcule esperança e variância de $G$ utilizando a distribuição de probabilidade, ou seja, $E(G)$ e $Var(G)$.\n",
    "4. Calcule esperança e variância de $G$ utilizando propriedades de esperança e variância da soma de variáveis aleatórias.\n"
   ]
  },
  {
   "cell_type": "code",
   "execution_count": 2,
   "metadata": {
    "collapsed": false
   },
   "outputs": [
    {
     "name": "stdout",
     "output_type": "stream",
     "text": [
      "[[0.05, 0.07, 0.26], [0.075, 0.21, 0.12], [0.125, 0.07, 0.02]]\n"
     ]
    }
   ],
   "source": [
    "#Valores da tabela\n",
    "y=[-1,0,1] #colunas\n",
    "x=[-0.25,0,0.25] #linhas\n",
    "probXY=[[[] for i in range(3)] for i in range(3)]\n",
    "pxy=[0.05,0.07,0.26,0.075,0.21,0.12,0.125,0.07,0.02]\n",
    "k=0\n",
    "for i in range(3):\n",
    "    for j in range(3):\n",
    "        probXY[i][j]=pxy[k]\n",
    "        k+=1\n",
    "print(probXY)"
   ]
  },
  {
   "cell_type": "code",
   "execution_count": 3,
   "metadata": {
    "collapsed": false
   },
   "outputs": [
    {
     "name": "stdout",
     "output_type": "stream",
     "text": [
      "Probabilidade de X= -0.25  é igual a  0.38\n",
      "Probabilidade de X= 0  é igual a  0.40499999999999997\n",
      "Probabilidade de X= 0.25  é igual a  0.215\n",
      "Esperança de X= -0.04125\n",
      "Variância de X= 0.0354859375\n"
     ]
    }
   ],
   "source": [
    "#item 1 \n",
    "#Distribuição de X\n",
    "probX=[0,0,0]\n",
    "for i in range(3):\n",
    "    for j in range(3):\n",
    "        probX[i]+=probXY[i][j]\n",
    "for i in range(3):\n",
    "    print(\"Probabilidade de X=\",x[i],\" é igual a \", probX[i])\n",
    "\n",
    "espX=0\n",
    "varX=0\n",
    "for i in range(3):\n",
    "    espX+=x[i]*probX[i]\n",
    "for i in range(3):\n",
    "    varX+=(x[i]-espX)**2*probX[i]\n",
    "print(\"Esperança de X=\",espX)\n",
    "print(\"Variância de X=\",varX)\n"
   ]
  },
  {
   "cell_type": "code",
   "execution_count": 4,
   "metadata": {
    "collapsed": false
   },
   "outputs": [
    {
     "name": "stdout",
     "output_type": "stream",
     "text": [
      "Probabilidade de Y= -1  é igual a  0.25\n",
      "Probabilidade de Y= 0  é igual a  0.35000000000000003\n",
      "Probabilidade de Y= 1  é igual a  0.4\n",
      "Esperança de Y= 0.15000000000000002\n",
      "Variância de Y= 0.6275\n"
     ]
    }
   ],
   "source": [
    "#item 1 \n",
    "#Distribuição de Y\n",
    "probY=[0,0,0]\n",
    "for i in range(3):\n",
    "    for j in range(3):\n",
    "        probY[j]+=probXY[i][j]\n",
    "for i in range(3):\n",
    "    print(\"Probabilidade de Y=\",y[i],\" é igual a \", probY[i])\n",
    "\n",
    "espY=0\n",
    "varY=0\n",
    "for i in range(3):\n",
    "    espY+=y[i]*probY[i]\n",
    "for i in range(3):\n",
    "    varY+=(y[i]-espY)**2*probY[i]\n",
    "print(\"Esperança de Y=\",espY)\n",
    "print(\"Variância de Y=\",varY)\n"
   ]
  },
  {
   "cell_type": "code",
   "execution_count": 5,
   "metadata": {
    "collapsed": false
   },
   "outputs": [
    {
     "name": "stdout",
     "output_type": "stream",
     "text": [
      "Covariância entre X e Y= -0.07256249999999999\n",
      "Correlação entre X e Y= -0.4862697238590869\n"
     ]
    }
   ],
   "source": [
    "#item 1\n",
    "#Covariância e Correlação\n",
    "cov=0\n",
    "for i in range(3):\n",
    "    for j in range(3):\n",
    "        cov+=(x[i]-espX)*(y[j]-espY)*probXY[i][j]\n",
    "\n",
    "corr=cov/(varX*varY)**(0.5)\n",
    "print(\"Covariância entre X e Y=\", cov)\n",
    "print(\"Correlação entre X e Y=\", corr)\n"
   ]
  },
  {
   "cell_type": "code",
   "execution_count": 6,
   "metadata": {
    "collapsed": false
   },
   "outputs": [
    {
     "name": "stdout",
     "output_type": "stream",
     "text": [
      "Probabilidade de G= -0.625  é igual a  0.05\n",
      "Probabilidade de G= -0.125  é igual a  0.07\n",
      "Probabilidade de G= 0.375  é igual a  0.26\n",
      "Probabilidade de G= -0.5  é igual a  0.075\n",
      "Probabilidade de G= 0.0  é igual a  0.21\n",
      "Probabilidade de G= 0.5  é igual a  0.12\n",
      "Probabilidade de G= -0.375  é igual a  0.125\n",
      "Probabilidade de G= 0.125  é igual a  0.07\n",
      "Probabilidade de G= 0.625  é igual a  0.02\n"
     ]
    }
   ],
   "source": [
    "#item 2\n",
    "#Distribuição do G=0.5*X +0.5*Y\n",
    "g=[]\n",
    "probG=[]\n",
    "for i in range(3):\n",
    "    for j in range(3):\n",
    "        a = 0.5*x[i]+0.5*y[j]\n",
    "        if a in g:\n",
    "            probG[g.index(a)] += probX[i][j]\n",
    "        else:\n",
    "            g.append(a)         \n",
    "            probG.append(probXY[i][j])\n",
    "\n",
    "for i in range(len(g)):\n",
    "    print(\"Probabilidade de G=\",g[i],\" é igual a \", probG[i])\n"
   ]
  },
  {
   "cell_type": "code",
   "execution_count": 7,
   "metadata": {
    "collapsed": false
   },
   "outputs": [
    {
     "name": "stdout",
     "output_type": "stream",
     "text": [
      "Esperança e variância de G usando distribuição de probabilidade de G:\n",
      "Esperança de G= 0.05437500000000001\n",
      "Variância de G= 0.12946523437500002\n"
     ]
    }
   ],
   "source": [
    "#item 3\n",
    "#Esperança e variância de G\n",
    "espG=0\n",
    "varG=0\n",
    "for i in range(len(g)):\n",
    "    espG+=g[i]*probG[i]\n",
    "for i in range(len(g)):\n",
    "    varG+=(g[i]-espG)**2*probG[i]\n",
    "\n",
    "print(\"Esperança e variância de G usando distribuição de probabilidade de G:\")\n",
    "print(\"Esperança de G=\",espG)\n",
    "print(\"Variância de G=\",varG)"
   ]
  },
  {
   "cell_type": "code",
   "execution_count": 8,
   "metadata": {
    "collapsed": false
   },
   "outputs": [
    {
     "name": "stdout",
     "output_type": "stream",
     "text": [
      "Esperança e variância de G usando propriedades:\n",
      "Esperança de G= 0.05437500000000001\n",
      "Variância de G= 0.129465234375\n"
     ]
    }
   ],
   "source": [
    "#item 4\n",
    "#Esperança e variância de G usando propriedades de soma de variáveis aleatórias\n",
    "\n",
    "#G=0.5X + 0.5Y\n",
    "#G=0.5*(X+Y)\n",
    "\n",
    "espGp = 0.5*(espX+espY)\n",
    "varGp = 0.5**2*(varX+varY+2*cov)\n",
    "\n",
    "print(\"Esperança e variância de G usando propriedades:\")\n",
    "print(\"Esperança de G=\",espGp)\n",
    "print(\"Variância de G=\",varGp)\n"
   ]
  },
  {
   "cell_type": "markdown",
   "metadata": {
    "collapsed": true
   },
   "source": [
    "___\n",
    "## <font color='blue'>Exercício 2 - Soma de normais correlacionadas</font>\n",
    "\n",
    "Um pacote com mil peças de resistor de carbono 1/8w tem o preço distribuído como uma normal com média 21 reais e desvio padrão de 2 reais, ou seja, $X$~$N(21;4)$.\n",
    "\n",
    "Já jumpers/fios macho-fêmea com 40 unidades de 20 cm tem o preço distribuído como uma normal com média 18,90 reais e desvio padrão de 1,50 reais, ou seja, $Y$~$N(18,90;2,25)$.\n",
    "\n",
    "Assuma que a correlação entre esses dois preços seja de 0,85.\n",
    "\n",
    "1. Simule $n=100$, $n=1.000$ e $n=10.000$ de cada variáveis aleatória respeitando a correlação entre elas. Para tanto, consulte o comando `np.random.multivariate_normal(mean, cov, n)`. \n",
    "2. Se você vai passear na Santa Efigênia para comprar um pacote de cada um, calcule a esperança e a variância do gasto $G=X+Y$ com a compra de uma pacotinho de resistores e um jumper nas especificações acima descritos. \n",
    "3. Calcule esperança e variância de $G$ utilizando propriedades de esperança e variância da soma de variáveis aleatórias.\n",
    "4. Construa a distribuição do gasto e verifique se o gasto se assemelha a distribuição normal.\n",
    "5. Repita assumindo correlação igual a zero entre X e Y.\n"
   ]
  },
  {
   "cell_type": "code",
   "execution_count": 9,
   "metadata": {
    "collapsed": false
   },
   "outputs": [],
   "source": [
    "#Informações do enunciado\n",
    "\n",
    "muX = 21\n",
    "varX = 4\n",
    "muY = 18.90\n",
    "varY = 2.25\n",
    "corXY = 0.95\n",
    "covXY = corXY*(varX*varY)**(0.5)\n",
    "mean = [muX, muY]\n",
    "cov = [[varX, covXY], [covXY, varY]]  # diagonal covariance"
   ]
  },
  {
   "cell_type": "markdown",
   "metadata": {},
   "source": [
    "#### Item 1."
   ]
  },
  {
   "cell_type": "code",
   "execution_count": 10,
   "metadata": {
    "collapsed": false
   },
   "outputs": [
    {
     "name": "stdout",
     "output_type": "stream",
     "text": [
      "Matriz de covariâncias a partir dos n (100) valores correlacionados:\n",
      "[[ 3.24739322  2.3821957 ]\n",
      " [ 2.3821957   2.04346104]]\n",
      "Matriz de covariâncias a partir dos n (1000) valores correlacionados:\n",
      "[[ 3.96234499  2.83332104]\n",
      " [ 2.83332104  2.22869871]]\n",
      "Matriz de covariâncias a partir dos n (10000) valores correlacionados:\n",
      "[[ 3.98592201  2.84097225]\n",
      " [ 2.84097225  2.24195495]]\n"
     ]
    }
   ],
   "source": [
    "#item 1\n",
    "\n",
    "n1=100\n",
    "x1, y1 = np.random.multivariate_normal(mean, cov, n1).T\n",
    "\n",
    "print(\"Matriz de covariâncias a partir dos n (100) valores correlacionados:\")\n",
    "print(np.cov(x1,y1))\n",
    "\n",
    "n2=1000\n",
    "x2, y2 = np.random.multivariate_normal(mean, cov, n2).T\n",
    "\n",
    "print(\"Matriz de covariâncias a partir dos n (1000) valores correlacionados:\")\n",
    "print(np.cov(x2,y2))\n",
    "\n",
    "n3=10000\n",
    "x3, y3 = np.random.multivariate_normal(mean, cov, n3).T\n",
    "\n",
    "print(\"Matriz de covariâncias a partir dos n (10000) valores correlacionados:\")\n",
    "print(np.cov(x3,y3))"
   ]
  },
  {
   "cell_type": "markdown",
   "metadata": {},
   "source": [
    "#### Item 2."
   ]
  },
  {
   "cell_type": "code",
   "execution_count": 11,
   "metadata": {
    "collapsed": false
   },
   "outputs": [
    {
     "name": "stdout",
     "output_type": "stream",
     "text": [
      "Média para n = 100: 38.979823285022604.\n",
      "Variância para n = 100: 9.95469320117178.\n"
     ]
    }
   ],
   "source": [
    "#item 2\n",
    "\n",
    "# n = 100:\n",
    "\n",
    "g1 = []\n",
    "for i in range(0, n1):\n",
    "    g1.append(x1[i] + y1[i])\n",
    "\n",
    "# Calculando a Esperança:\n",
    "E1_linha = 0\n",
    "for i in g1:\n",
    "    E1_linha += i\n",
    "E1 = E1_linha / len(g1)\n",
    "\n",
    "print(\"Média para n = 100: {0}.\".format(E1))\n",
    "\n",
    "Var1_linha = 0\n",
    "for i in g1:\n",
    "    Var1_linha += (i - E1)**2\n",
    "Var1 = Var1_linha / len(g1)\n",
    "\n",
    "print(\"Variância para n = 100: {0}.\".format(Var1))"
   ]
  },
  {
   "cell_type": "code",
   "execution_count": 12,
   "metadata": {
    "collapsed": false
   },
   "outputs": [
    {
     "name": "stdout",
     "output_type": "stream",
     "text": [
      "Média para n = 1000: 39.90286226282616.\n",
      "Variância para n = 1000: 11.845828084855063.\n"
     ]
    }
   ],
   "source": [
    "# n = 1000:\n",
    "\n",
    "g2 = []\n",
    "for i in range(0, n2):\n",
    "    g2.append(x2[i] + y2[i])\n",
    "\n",
    "# Calculando a Esperança:\n",
    "E2_linha = 0\n",
    "for i in g2:\n",
    "    E2_linha += i\n",
    "E2 = E2_linha / len(g2)\n",
    "\n",
    "print(\"Média para n = 1000: {0}.\".format(E2))\n",
    "\n",
    "Var2_linha = 0\n",
    "for i in g2:\n",
    "    Var2_linha += (i - E2)**2\n",
    "Var2 = Var2_linha / len(g2)\n",
    "\n",
    "print(\"Variância para n = 1000: {0}.\".format(Var2))"
   ]
  },
  {
   "cell_type": "code",
   "execution_count": 13,
   "metadata": {
    "collapsed": false
   },
   "outputs": [
    {
     "name": "stdout",
     "output_type": "stream",
     "text": [
      "Média para n = 10000: 39.89723698392653.\n",
      "Variância para n = 10000: 11.908630479172285.\n"
     ]
    }
   ],
   "source": [
    "# n = 10000:\n",
    "\n",
    "g3 = []\n",
    "for i in range(0, n3):\n",
    "    g3.append(x3[i] + y3[i])\n",
    "\n",
    "# Calculando a Esperança:\n",
    "E3_linha = 0\n",
    "for i in g3:\n",
    "    E3_linha += i\n",
    "E3 = E3_linha / len(g3)\n",
    "\n",
    "print(\"Média para n = 10000: {0}.\".format(E3))\n",
    "\n",
    "Var3_linha = 0\n",
    "for i in g3:\n",
    "    Var3_linha += (i - E3)**2\n",
    "Var3 = Var3_linha / len(g3)\n",
    "\n",
    "print(\"Variância para n = 10000: {0}.\".format(Var3))"
   ]
  },
  {
   "cell_type": "markdown",
   "metadata": {},
   "source": [
    "#### Item 3."
   ]
  },
  {
   "cell_type": "code",
   "execution_count": 14,
   "metadata": {
    "collapsed": false
   },
   "outputs": [
    {
     "name": "stdout",
     "output_type": "stream",
     "text": [
      "Esperança de G: 39.9 reais.\n",
      "Variância de G: 11.95 reais ao quadrado.\n"
     ]
    }
   ],
   "source": [
    "#item 3\n",
    "espG = muX + muY\n",
    "varG = varX + varY + 2*covXY\n",
    "\n",
    "print(\"Esperança de G: {0} reais.\".format(espG))\n",
    "print(\"Variância de G: {0} reais ao quadrado.\".format(varG))"
   ]
  },
  {
   "cell_type": "markdown",
   "metadata": {},
   "source": [
    "#### Item 4."
   ]
  },
  {
   "cell_type": "code",
   "execution_count": 15,
   "metadata": {
    "collapsed": false
   },
   "outputs": [
    {
     "data": {
      "text/plain": [
       "<matplotlib.text.Text at 0x1cc027fd4e0>"
      ]
     },
     "execution_count": 15,
     "metadata": {},
     "output_type": "execute_result"
    },
    {
     "data": {
      "image/png": "[encoded data removed]",
      "text/plain": [
       "<matplotlib.figure.Figure at 0x1cc027dae48>"
      ]
     },
     "metadata": {},
     "output_type": "display_data"
    }
   ],
   "source": [
    "#item 4\n",
    "\n",
    "# n = 100\n",
    "\n",
    "G1 = pd.Series(g1)\n",
    "G1.plot.hist(normed=1)\n",
    "plt.title(\"Distribuição de gastos G para n = 100\")\n",
    "plt.ylabel(\"Frequência relativa (%)\")\n",
    "plt.xlabel(\"Valor gasto (R$)\")"
   ]
  },
  {
   "cell_type": "code",
   "execution_count": 16,
   "metadata": {
    "collapsed": false
   },
   "outputs": [
    {
     "data": {
      "text/plain": [
       "<matplotlib.text.Text at 0x1cc0394f898>"
      ]
     },
     "execution_count": 16,
     "metadata": {},
     "output_type": "execute_result"
    },
    {
     "data": {
      "image/png": "[encoded data removed]",
      "text/plain": [
       "<matplotlib.figure.Figure at 0x1cc0346bba8>"
      ]
     },
     "metadata": {},
     "output_type": "display_data"
    }
   ],
   "source": [
    "# n = 1000\n",
    "\n",
    "G2 = pd.Series(g2)\n",
    "G2.plot.hist(normed=1)\n",
    "plt.title(\"Distribuição de gastos G para n = 1000\")\n",
    "plt.ylabel(\"Frequência relativa (%)\")\n",
    "plt.xlabel(\"Valor gasto (R$)\")"
   ]
  },
  {
   "cell_type": "code",
   "execution_count": 17,
   "metadata": {
    "collapsed": false
   },
   "outputs": [
    {
     "data": {
      "text/plain": [
       "<matplotlib.text.Text at 0x1cc0497b240>"
      ]
     },
     "execution_count": 17,
     "metadata": {},
     "output_type": "execute_result"
    },
    {
     "data": {
      "image/png": "[encoded data removed]",
      "text/plain": [
       "<matplotlib.figure.Figure at 0x1cc049aa0f0>"
      ]
     },
     "metadata": {},
     "output_type": "display_data"
    }
   ],
   "source": [
    "# n = 10000\n",
    "\n",
    "G3 = pd.Series(g3)\n",
    "G3.plot.hist(normed=1)\n",
    "plt.title(\"Distribuição de gastos G para n = 10000\")\n",
    "plt.ylabel(\"Frequência relativa (%)\")\n",
    "plt.xlabel(\"Valor gasto (R$)\")"
   ]
  },
  {
   "cell_type": "markdown",
   "metadata": {},
   "source": [
    "#### Item 5."
   ]
  },
  {
   "cell_type": "code",
   "execution_count": 18,
   "metadata": {
    "collapsed": false
   },
   "outputs": [],
   "source": [
    "# Definindo o novo valor para a correlação:\n",
    "muX = 21\n",
    "varX = 4\n",
    "muY = 18.90\n",
    "varY = 2.25\n",
    "corXY = 0\n",
    "covXY = corXY*(varX*varY)**(0.5)\n",
    "mean = [muX, muY]\n",
    "cov = [[varX, covXY], [covXY, varY]]  # diagonal covariance"
   ]
  },
  {
   "cell_type": "markdown",
   "metadata": {},
   "source": [
    "##### Item 5.1."
   ]
  },
  {
   "cell_type": "code",
   "execution_count": 19,
   "metadata": {
    "collapsed": false
   },
   "outputs": [
    {
     "name": "stdout",
     "output_type": "stream",
     "text": [
      "Matriz de covariâncias a partir dos n (100) valores correlacionados:\n",
      "[[ 3.62657148 -0.47597192]\n",
      " [-0.47597192  1.69568765]]\n",
      "Matriz de covariâncias a partir dos n (1000) valores correlacionados:\n",
      "[[ 3.77537521 -0.06899987]\n",
      " [-0.06899987  2.19236532]]\n",
      "Matriz de covariâncias a partir dos n (10000) valores correlacionados:\n",
      "[[ 4.08306353  0.01160726]\n",
      " [ 0.01160726  2.27768005]]\n"
     ]
    }
   ],
   "source": [
    "#item 5.1.\n",
    "\n",
    "n1=100\n",
    "x1, y1 = np.random.multivariate_normal(mean, cov, n1).T\n",
    "\n",
    "print(\"Matriz de covariâncias a partir dos n (100) valores correlacionados:\")\n",
    "print(np.cov(x1,y1))\n",
    "\n",
    "n2=1000\n",
    "x2, y2 = np.random.multivariate_normal(mean, cov, n2).T\n",
    "\n",
    "print(\"Matriz de covariâncias a partir dos n (1000) valores correlacionados:\")\n",
    "print(np.cov(x2,y2))\n",
    "\n",
    "n3=10000\n",
    "x3, y3 = np.random.multivariate_normal(mean, cov, n3).T\n",
    "\n",
    "print(\"Matriz de covariâncias a partir dos n (10000) valores correlacionados:\")\n",
    "print(np.cov(x3,y3))"
   ]
  },
  {
   "cell_type": "markdown",
   "metadata": {},
   "source": [
    "##### Item 5.2."
   ]
  },
  {
   "cell_type": "code",
   "execution_count": 20,
   "metadata": {
    "collapsed": false
   },
   "outputs": [
    {
     "name": "stdout",
     "output_type": "stream",
     "text": [
      "Média para n = 100: 40.09655805845558.\n",
      "Variância para n = 100: 4.326612136659935.\n"
     ]
    }
   ],
   "source": [
    "#item 5.2.\n",
    "\n",
    "# n = 100:\n",
    "\n",
    "g1 = []\n",
    "for i in range(0, n1):\n",
    "    g1.append(x1[i] + y1[i])\n",
    "\n",
    "# Calculando a Esperança:\n",
    "E1_linha = 0\n",
    "for i in g1:\n",
    "    E1_linha += i\n",
    "E1 = E1_linha / len(g1)\n",
    "\n",
    "print(\"Média para n = 100: {0}.\".format(E1))\n",
    "\n",
    "Var1_linha = 0\n",
    "for i in g1:\n",
    "    Var1_linha += (i - E1)**2\n",
    "Var1 = Var1_linha / len(g1)\n",
    "\n",
    "print(\"Variância para n = 100: {0}.\".format(Var1))"
   ]
  },
  {
   "cell_type": "code",
   "execution_count": 21,
   "metadata": {
    "collapsed": false
   },
   "outputs": [
    {
     "name": "stdout",
     "output_type": "stream",
     "text": [
      "Média para n = 1000: 40.00746127619165.\n",
      "Variância para n = 1000: 5.823911041603106.\n"
     ]
    }
   ],
   "source": [
    "# n = 1000:\n",
    "\n",
    "g2 = []\n",
    "for i in range(0, n2):\n",
    "    g2.append(x2[i] + y2[i])\n",
    "\n",
    "# Calculando a Esperança:\n",
    "E2_linha = 0\n",
    "for i in g2:\n",
    "    E2_linha += i\n",
    "E2 = E2_linha / len(g2)\n",
    "\n",
    "print(\"Média para n = 1000: {0}.\".format(E2))\n",
    "\n",
    "Var2_linha = 0\n",
    "for i in g2:\n",
    "    Var2_linha += (i - E2)**2\n",
    "Var2 = Var2_linha / len(g2)\n",
    "\n",
    "print(\"Variância para n = 1000: {0}.\".format(Var2))"
   ]
  },
  {
   "cell_type": "code",
   "execution_count": 22,
   "metadata": {
    "collapsed": false
   },
   "outputs": [
    {
     "name": "stdout",
     "output_type": "stream",
     "text": [
      "Média para n = 10000: 39.89664474511201.\n",
      "Variância para n = 10000: 6.383319707376518.\n"
     ]
    }
   ],
   "source": [
    "# n = 10000:\n",
    "\n",
    "g3 = []\n",
    "for i in range(0, n3):\n",
    "    g3.append(x3[i] + y3[i])\n",
    "\n",
    "# Calculando a Esperança:\n",
    "E3_linha = 0\n",
    "for i in g3:\n",
    "    E3_linha += i\n",
    "E3 = E3_linha / len(g3)\n",
    "\n",
    "print(\"Média para n = 10000: {0}.\".format(E3))\n",
    "\n",
    "Var3_linha = 0\n",
    "for i in g3:\n",
    "    Var3_linha += (i - E3)**2\n",
    "Var3 = Var3_linha / len(g3)\n",
    "\n",
    "print(\"Variância para n = 10000: {0}.\".format(Var3))"
   ]
  },
  {
   "cell_type": "markdown",
   "metadata": {},
   "source": [
    "##### Item 5.3."
   ]
  },
  {
   "cell_type": "code",
   "execution_count": 23,
   "metadata": {
    "collapsed": false
   },
   "outputs": [
    {
     "name": "stdout",
     "output_type": "stream",
     "text": [
      "Esperança de G: 39.9 reais.\n",
      "Variância de G: 6.25 reais ao quadrado.\n"
     ]
    }
   ],
   "source": [
    "#item 5.3.\n",
    "espG = muX + muY\n",
    "varG = varX + varY + 2*covXY\n",
    "\n",
    "print(\"Esperança de G: {0} reais.\".format(espG))\n",
    "print(\"Variância de G: {0} reais ao quadrado.\".format(varG))"
   ]
  },
  {
   "cell_type": "markdown",
   "metadata": {},
   "source": [
    "##### Item 5.4."
   ]
  },
  {
   "cell_type": "code",
   "execution_count": 24,
   "metadata": {
    "collapsed": false
   },
   "outputs": [
    {
     "data": {
      "text/plain": [
       "<matplotlib.text.Text at 0x1cc0499b748>"
      ]
     },
     "execution_count": 24,
     "metadata": {},
     "output_type": "execute_result"
    },
    {
     "data": {
      "image/png": "[encoded data removed]",
      "text/plain": [
       "<matplotlib.figure.Figure at 0x1cc04a9b908>"
      ]
     },
     "metadata": {},
     "output_type": "display_data"
    }
   ],
   "source": [
    "#item 5.4.\n",
    "\n",
    "# n = 100\n",
    "\n",
    "G1 = pd.Series(g1)\n",
    "G1.plot.hist(normed=1)\n",
    "plt.title(\"Distribuição de gastos G para n = 100\")\n",
    "plt.ylabel(\"Frequência relativa (%)\")\n",
    "plt.xlabel(\"Valor gasto (R$)\")"
   ]
  },
  {
   "cell_type": "code",
   "execution_count": 25,
   "metadata": {
    "collapsed": false
   },
   "outputs": [
    {
     "data": {
      "text/plain": [
       "<matplotlib.text.Text at 0x1cc7edde208>"
      ]
     },
     "execution_count": 25,
     "metadata": {},
     "output_type": "execute_result"
    },
    {
     "data": {
      "image/png": "[encoded data removed]",
      "text/plain": [
       "<matplotlib.figure.Figure at 0x1cc04ac3ac8>"
      ]
     },
     "metadata": {},
     "output_type": "display_data"
    }
   ],
   "source": [
    "# n = 1000\n",
    "\n",
    "G2 = pd.Series(g2)\n",
    "G2.plot.hist(normed=1)\n",
    "plt.title(\"Distribuição de gastos G para n = 1000\")\n",
    "plt.ylabel(\"Frequência relativa (%)\")\n",
    "plt.xlabel(\"Valor gasto (R$)\")"
   ]
  },
  {
   "cell_type": "code",
   "execution_count": 26,
   "metadata": {
    "collapsed": false
   },
   "outputs": [
    {
     "data": {
      "text/plain": [
       "<matplotlib.text.Text at 0x1cc04ac6f98>"
      ]
     },
     "execution_count": 26,
     "metadata": {},
     "output_type": "execute_result"
    },
    {
     "data": {
      "image/png": "[encoded data removed]",
      "text/plain": [
       "<matplotlib.figure.Figure at 0x1cc04a5b3c8>"
      ]
     },
     "metadata": {},
     "output_type": "display_data"
    }
   ],
   "source": [
    "# n = 10000\n",
    "\n",
    "G3 = pd.Series(g3)\n",
    "G3.plot.hist(normed=1)\n",
    "plt.title(\"Distribuição de gastos G para n = 10000\")\n",
    "plt.ylabel(\"Frequência relativa (%)\")\n",
    "plt.xlabel(\"Valor gasto (R$)\")"
   ]
  }
 ],
 "metadata": {
  "anaconda-cloud": {},
  "kernelspec": {
   "display_name": "Python [Root]",
   "language": "python",
   "name": "Python [Root]"
  },
  "language_info": {
   "codemirror_mode": {
    "name": "ipython",
    "version": 3
   },
   "file_extension": ".py",
   "mimetype": "text/x-python",
   "name": "python",
   "nbconvert_exporter": "python",
   "pygments_lexer": "ipython3",
   "version": "3.5.2"
  }
 },
 "nbformat": 4,
 "nbformat_minor": 0
}
