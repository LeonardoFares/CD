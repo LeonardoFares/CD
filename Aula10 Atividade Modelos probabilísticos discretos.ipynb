{
 "cells": [
  {
   "cell_type": "markdown",
   "metadata": {},
   "source": [
    "___\n",
    "# Atividade: Modelos probabilísticos discretos e Dados\n",
    "___\n",
    "\n",
    "## Aula 10\n",
    "\n",
    "**Referência de Leitura:**\n",
    "1. Magalhães e Lima (7ª. Edição): Seções 3.2 e 3.3\n",
    "\n",
    "**Hoje:**\n",
    "1.\tDescrever modelos discretos quanto aos resultados teóricos.\n",
    "2.\tExplicar a utilização de modelos probabilísticos no contexto da literatura estatística.\n",
    "3.\tContrastar resultados teóricos e empíricos.\n",
    "4.\tFechamento do conteúdo.\n",
    "\n",
    "**Próxima aula:**\n",
    "1. Leitura prévia necessária: Magalhães e Lima (7ª. Edição): Seção 5.1 (pág. 137) e Seção 5.2 (pág. 146).\n",
    "___"
   ]
  },
  {
   "cell_type": "code",
   "execution_count": 2,
   "metadata": {
    "collapsed": true
   },
   "outputs": [],
   "source": [
    "%matplotlib inline\n",
    "import pandas as pd\n",
    "import matplotlib.pyplot as plt\n",
    "\n",
    "from scipy import stats #importa apenas as funções de estatísticas da biblioteca SciPy.\n",
    "import itertools #importante para gerar todos os resultados possíveis!!\n",
    "from numpy import arange"
   ]
  },
  {
   "cell_type": "markdown",
   "metadata": {},
   "source": [
    "___\n",
    "## <font color='blue'>Exercício 1</font>\n",
    "\n",
    "Um resistor de 100K Ohms comprado na Santa Efigênia tem probabilidade de falha de 5%, segundo um fabricante ruim.\n",
    "\n",
    "Ainda, assuma os resistores falham de forma independente entre si.\n",
    "\n",
    "Um aluno de engenharia compra um pacote contendo $n$ resistores.\n",
    "\n",
    "1. Assuma $n=3$ e faça os itens a seguir.\n",
    "  1. Monte o espaço amostral que combine todos os resultados possíveis de Falha e não Falha desses $n$ resistores. Ainda, calcule a probabilidade de cada resultado do espaço amostral acontecer.\n",
    "  2. Se $Y$ representa o número de resistores que falham em um pacotinho com $n$ resistores, então construa a distribuição de probabilidades de $Y$.\n",
    "  3. Calcule a média e o desvio padrão de $Y$. Interprete os resultados.\n",
    "    \n",
    "2. Assuma $n=7$ e repita os itens A) a C) anteriores. No caso de $n=7$ ou maiores quantidades de resistores em um pacotinho, qual a viabilidade de construir a distribuição de probabilidades do número de resistores com defeitos quando $n$ não é pequeno?\n",
    "    \n",
    "3. Encontre a distribuição de probabilidades de cada possível valor de $Y$ utilizando a distribuição Binomial para $n=3$ e $n=7$. Calcule também $E(X)$ e $Var(X)$. Compare com as distribuições de probabilidades obtidas nos itens anteriores e discuta porque esses valores são iguais ou diferentes!\n",
    "    \n",
    "> **DISTRIBUIÇÃO BINOMIAL - TEORIA:**\n",
    "\n",
    "> É responsável por modelar uma variável $Y$ definida pelo Número de sucessos em $n$ tentativas, cuja probabilidade de sucesso é dada por $p$. Assim, dizemos que $Y$~$Bin(n,p)$ e lê-se: $Y$ segue uma distribuição binomial com $n$ tentativas e $p$ como probabilidade de sucesso. \n",
    "\n",
    "> A função de probabilidade nesse caso é dada por:\n",
    "$P(Y=y)=\\left(\n",
    "\\begin{array}{c}\n",
    "    n \\\\\n",
    "    y\n",
    "\\end{array}\\right) p^y (1-p)^{(n-y)}$\n",
    "\n",
    "> Para um experimento ter as probabilidade dos números de sucessos modeladas por uma distribuição Binomial, o mesmo precisa ter as seguintes propriedades:\n",
    "* é uma contagem de $n$ repetições (ou tentativas ou ensaios) idênticas;\n",
    "* cada repetição tem apenas 2 resultados possíveis: um é denominado sucesso e o outro, fracasso;\n",
    "* a probabilidade de sucesso para cada ensaio é denominada $p$ e será constante em cada repetição. Então, a probabilidade de fracasso $(1-p)$ também não varia de tentativa para tentativa;\n",
    "* As tentativas são independentes.\n",
    "\n",
    "\n",
    "> **DISTRIBUIÇÃO BINOMIAL - PYTHON:** <sup> [https://en.wikipedia.org/wiki/SciPy]\n",
    "\n",
    "> Algumas funções úteis para desenvolver seu código: <sup> [http://docs.scipy.org/doc/scipy-0.16.1/reference/generated/scipy.stats.binom.html]\n",
    "* $P(Y=y)$: `stats.binom.pmf(y, n, p)`\n",
    "* $P(Y\\leq y)$: `stats.binom.cdf(y, n, p)`\n",
    "* $E(X)$ e $Var(X)$: `stats.binom.stats(n, p, moments='mv')`\n"
   ]
  },
  {
   "cell_type": "code",
   "execution_count": 2,
   "metadata": {
    "collapsed": false
   },
   "outputs": [
    {
     "name": "stdout",
     "output_type": "stream",
     "text": [
      "A:\n",
      "- Espaço amostral\n",
      "[('F', 'F', 'F'), ('F', 'F', 'NF'), ('F', 'NF', 'F'), ('F', 'NF', 'NF'), ('NF', 'F', 'F'), ('NF', 'F', 'NF'), ('NF', 'NF', 'F'), ('NF', 'NF', 'NF')]\n",
      "- Probabilidade de cada arranjo\n",
      "[0.00012500000000000003, 0.0023750000000000004, 0.0023750000000000004, 0.045125, 0.0023750000000000004, 0.045125, 0.045125, 0.8573749999999999]\n",
      "B:\n",
      "- Probabilidades de Y\n",
      "Número de resistores falhos:  0  Probabilidade 0.85737 \n",
      "Número de resistores falhos:  1  Probabilidade 0.13537 \n",
      "Número de resistores falhos:  2  Probabilidade 0.00713 \n",
      "Número de resistores falhos:  3  Probabilidade 0.00013 \n",
      "C\n",
      "- Média:\n",
      "0.15\n",
      "- Desvio padrão:\n",
      "0.37749172176353746\n"
     ]
    }
   ],
   "source": [
    "#item 1\n",
    "n=3\n",
    "\n",
    "# A\n",
    "\n",
    "possibilidades = ['F', 'NF']\n",
    "probabilidades = {'F': 0.05, 'NF': 0.95}\n",
    "arranjos = itertools.product(possibilidades, repeat = n)\n",
    "espaço_amostral = list(arranjos)\n",
    "print(\"A:\")\n",
    "print(\"- Espaço amostral\")\n",
    "print(espaço_amostral)\n",
    "\n",
    "prob_linhas = []\n",
    "for cada_arranjo in espaço_amostral:\n",
    "    p = 1.0\n",
    "    for item_arranjo in cada_arranjo:\n",
    "        p*=probabilidades[item_arranjo]\n",
    "    prob_linhas.append(p)\n",
    "print(\"- Probabilidade de cada arranjo\")\n",
    "print(prob_linhas)\n",
    "\n",
    "# B\n",
    "\n",
    "resistores_falhos = {}\n",
    "for i in range(len(espaço_amostral)):\n",
    "    res_f = espaço_amostral[i].count(\"F\")\n",
    "    if res_f in resistores_falhos:\n",
    "        resistores_falhos[res_f] += prob_linhas[i]\n",
    "    else:\n",
    "        resistores_falhos[res_f] = prob_linhas[i]\n",
    "print(\"B:\")\n",
    "print(\"- Probabilidades de Y\")\n",
    "for k in resistores_falhos:\n",
    "    print(\"Número de resistores falhos: \", k, \" Probabilidade\", \"%6.5f \"%resistores_falhos[k])\n",
    "    \n",
    "# C\n",
    "\n",
    "média = 0\n",
    "for i in range(len(resistores_falhos)):\n",
    "    média += (i * resistores_falhos[i])\n",
    "print('C')\n",
    "print('- Média:')\n",
    "print(média)\n",
    "\n",
    "variância = 0\n",
    "for i in range(len(resistores_falhos)):\n",
    "    variância += ((i - média)**2)*resistores_falhos[i]\n",
    "desvio_padrão = variância**0.5\n",
    "print('- Desvio padrão:')\n",
    "print(desvio_padrão)"
   ]
  },
  {
   "cell_type": "code",
   "execution_count": 3,
   "metadata": {
    "collapsed": false
   },
   "outputs": [
    {
     "name": "stdout",
     "output_type": "stream",
     "text": [
      "- Probabilidades de Y\n",
      "Número de resistores falhos:  0  Probabilidade 0.69834 \n",
      "Número de resistores falhos:  1  Probabilidade 0.25728 \n",
      "Número de resistores falhos:  2  Probabilidade 0.04062 \n",
      "Número de resistores falhos:  3  Probabilidade 0.00356 \n",
      "Número de resistores falhos:  4  Probabilidade 0.00019 \n",
      "Número de resistores falhos:  5  Probabilidade 0.00001 \n",
      "Número de resistores falhos:  6  Probabilidade 0.00000 \n",
      "Número de resistores falhos:  7  Probabilidade 0.00000 \n",
      "- Média:\n",
      "0.35\n",
      "- Desvio padrão:\n",
      "0.5766281297335397\n"
     ]
    }
   ],
   "source": [
    "#item 2\n",
    "n=7\n",
    "\n",
    "# A\n",
    "\n",
    "possibilidades = ['F', 'NF']\n",
    "probabilidades = {'F': 0.05, 'NF': 0.95}\n",
    "arranjos = itertools.product(possibilidades, repeat = n)\n",
    "espaço_amostral = list(arranjos)\n",
    "\n",
    "prob_linhas = []\n",
    "for cada_arranjo in espaço_amostral:\n",
    "    p = 1.0\n",
    "    for item_arranjo in cada_arranjo:\n",
    "        p*=probabilidades[item_arranjo]\n",
    "    prob_linhas.append(p)\n",
    "\n",
    "resistores_falhos = {}\n",
    "for i in range(len(espaço_amostral)):\n",
    "    res_f = espaço_amostral[i].count(\"F\")\n",
    "    if res_f in resistores_falhos:\n",
    "        resistores_falhos[res_f] += prob_linhas[i]\n",
    "    else:\n",
    "        resistores_falhos[res_f] = prob_linhas[i]\n",
    "print(\"- Probabilidades de Y\")\n",
    "for k in resistores_falhos:\n",
    "    print(\"Número de resistores falhos: \", k, \" Probabilidade\", \"%6.5f \"%resistores_falhos[k])\n",
    "\n",
    "média = 0\n",
    "for i in range(len(resistores_falhos)):\n",
    "    média += (i * resistores_falhos[i])\n",
    "print('- Média:')\n",
    "print(média)\n",
    "\n",
    "variância = 0\n",
    "for i in range(len(resistores_falhos)):\n",
    "    variância += ((i - média)**2)*resistores_falhos[i]\n",
    "desvio_padrão = variância**0.5\n",
    "print('- Desvio padrão:')\n",
    "print(desvio_padrão)"
   ]
  },
  {
   "cell_type": "code",
   "execution_count": 4,
   "metadata": {
    "collapsed": false
   },
   "outputs": [
    {
     "name": "stdout",
     "output_type": "stream",
     "text": [
      "Para n = 3\n",
      "Número de resistores falhos:  0  Probabilidade 0.85737 \n",
      "Número de resistores falhos:  1  Probabilidade 0.13537 \n",
      "Número de resistores falhos:  2  Probabilidade 0.00713 \n",
      "Número de resistores falhos:  3  Probabilidade 0.00013 \n",
      "Média\n",
      "0.15000000000000002\n",
      "Variância\n",
      "0.14250000000000002\n",
      "\n",
      "Para n = 3\n",
      "Número de resistores falhos:  0  Probabilidade 0.69834 \n",
      "Número de resistores falhos:  1  Probabilidade 0.25728 \n",
      "Número de resistores falhos:  2  Probabilidade 0.04062 \n",
      "Número de resistores falhos:  3  Probabilidade 0.00356 \n",
      "Número de resistores falhos:  4  Probabilidade 0.00019 \n",
      "Número de resistores falhos:  5  Probabilidade 0.00001 \n",
      "Número de resistores falhos:  6  Probabilidade 0.00000 \n",
      "Número de resistores falhos:  7  Probabilidade 0.00000 \n",
      "Média\n",
      "0.35000000000000003\n",
      "Variância\n",
      "0.3325\n"
     ]
    }
   ],
   "source": [
    "#item 3\n",
    "\n",
    "n = 3\n",
    "probabilidades = {}\n",
    "print(\"Para n = 3\")\n",
    "for i in range(n+1):\n",
    "    probabilidades[i] = stats.binom.pmf(i, n, 0.05)\n",
    "    print(\"Número de resistores falhos: \", i, \" Probabilidade\", \"%6.5f \"%probabilidades[i])\n",
    "print(\"Média\")       \n",
    "print(stats.binom.stats(3, 0.05, moments='mv')[0])\n",
    "print(\"Variância\")       \n",
    "print(stats.binom.stats(3, 0.05, moments='mv')[1])\n",
    "\n",
    "print()\n",
    "\n",
    "n = 7\n",
    "probabilidades = {}\n",
    "print(\"Para n = 3\")\n",
    "for i in range(n+1):\n",
    "    probabilidades[i] = stats.binom.pmf(i, n, 0.05)\n",
    "    print(\"Número de resistores falhos: \", i, \" Probabilidade\", \"%6.5f \"%probabilidades[i])\n",
    "print(\"Média\")       \n",
    "print(stats.binom.stats(7, 0.05, moments='mv')[0])\n",
    "print(\"Variância\")       \n",
    "print(stats.binom.stats(7, 0.05, moments='mv')[1])"
   ]
  },
  {
   "cell_type": "markdown",
   "metadata": {
    "collapsed": true
   },
   "source": [
    "___\n",
    "## <font color='blue'>Exercício 2</font>\n",
    "\n",
    "Uma fábrica produz determinado veículo. O gerente de vendas fechou um negócio que implica na produção de pelo menos 110 unidades nos próximos dois meses. Para isso, será construída uma nova linha de montagem com capacidade para produzir em média 50 veículos por mês (considere meses de 30 dias). A linha funcionará ininterruptamente. Além disso, apenas um veículo é produzido por vez. Considere que um modelo Poisson seja adequado para a quantidade de veículos produzidos.\n",
    "   1. Qual a probabilidade  da produção ser igual a 100 veículos nos próximos dois meses?\n",
    "   2. Qual a probabilidade  da produção ser de pelo menos 100 veículos nos próximos dois meses?\n",
    "   3. Qual a probabilidade da produção ser entre 100 e 110 veículos nos próximos dois meses?\n",
    "   4. Se forem produzidos de pelo menos 100 veículos no próximo mês, qual a probabilidade do gerente cumprir a meta negociada?\n",
    "   5. Caso o prazo seja cumprido, o lucro será da ordem de $250$ mil, caso não seja, o lucro cai para $200$ mil. Qual é o lucro esperado e seu desvio-padrão?\n",
    "\n",
    "**Observação:** Explore os comandos de `stats.poisson`. <sup>[http://docs.scipy.org/doc/scipy/reference/generated/scipy.stats.poisson.html]\n"
   ]
  },
  {
   "cell_type": "code",
   "execution_count": 10,
   "metadata": {
    "collapsed": false
   },
   "outputs": [
    {
     "name": "stdout",
     "output_type": "stream",
     "text": [
      "1.\n",
      "Probabilidade 1 = 0.03986099680914883\n",
      "\n",
      "2.\n",
      "Probabilidade 2 = 0.5132987982791244\n",
      "\n",
      "3.\n",
      "Probabilidade 3 = 0.36616144983690785\n",
      "\n",
      "4.\n",
      "Probabilidade 4 = 0.6572610996289293\n",
      "\n",
      "5.\n",
      "Renda por probabilidade:\n",
      "250 mil reais: 0.17055989790805362\n",
      "200 mil reais: 0.8294401020919464\n",
      "\n",
      "Esperança = 208.52799489540266 mil reais\n",
      "Desvio Padrão = 18.806197059323818 mil reais\n"
     ]
    }
   ],
   "source": [
    "# 1\n",
    "print(\"1.\")\n",
    "probabilidade1 = stats.poisson.pmf(100, 100)\n",
    "print(\"Probabilidade 1 = {0}\" .format(probabilidade1))\n",
    "\n",
    "print(\"\")\n",
    "\n",
    "# 2\n",
    "print(\"2.\")\n",
    "probabilidade2 = 1\n",
    "for i in range(0, 100):\n",
    "    probabilidade2 -= stats.poisson.pmf(i, 100)\n",
    "print(\"Probabilidade 2 = {0}\" .format(probabilidade2))\n",
    "\n",
    "print('')\n",
    "\n",
    "# 3\n",
    "print(\"3.\")\n",
    "probabilidade3 = 0\n",
    "for i in range(100, 111):\n",
    "    probabilidade3 += stats.poisson.pmf(i, 100)\n",
    "print(\"Probabilidade 3 = {0}\" .format(probabilidade3))\n",
    "\n",
    "print('')\n",
    "\n",
    "# 4\n",
    "print(\"4.\")\n",
    "probabilidade4 = 1\n",
    "for i in range(100, 110):\n",
    "    probabilidade4 -= stats.poisson.pmf(i, 100)\n",
    "print(\"Probabilidade 4 = {0}\" .format(probabilidade4))\n",
    "\n",
    "print('')\n",
    "\n",
    "# 5\n",
    "print(\"5.\")\n",
    "probabilidade_sucesso = 1\n",
    "for i in range(0, 110):\n",
    "    probabilidade_sucesso -= stats.poisson.pmf(i, 100)\n",
    "E = (probabilidade_sucesso * 250) + (prob110 * 200)\n",
    "desvio_padrão = ((((200 - E)**2)*prob110) + (((250 - E)**2)*probabilidade_sucesso))**0.5 \n",
    "print(\"Renda por probabilidade:\")\n",
    "print(\"250 mil reais: {0}\" .format(probabilidade_sucesso))\n",
    "print(\"200 mil reais: {0}\" .format(1 - probabilidade_sucesso))\n",
    "print('')\n",
    "print(\"Esperança = {0} mil reais\" .format(E))\n",
    "print(\"Desvio Padrão = {0} mil reais\" .format(desvio_padrão))"
   ]
  },
  {
   "cell_type": "markdown",
   "metadata": {},
   "source": [
    "___\n",
    "## <font color='blue'>Exercício 3</font> \n",
    "### <font color='red'>**Check para dia 13/09 em DUPLA **</font>\n",
    "\n",
    "Esse exercício irá explorar uma modelagem de dados reais.\n",
    "\n",
    "> **Confira alguns itens obrigatórios verificados durante a vistoria do Detran**\n",
    "\n",
    "> *Todos os veículos, novos ou velhos, precisam passar por uma vistoria todos os anos. (...) O motorista precisa estar atento a alguns itens obrigatórios. Tudo deve funcionar perfeitamente, apresentar bom estado de conservação e estar dentro do prazo de validade.*\n",
    "\n",
    "> <sup>Fonte: http://extra.globo.com/noticias/brasil/transito-seguro/confira-alguns-itens-obrigatorios-verificados-durante-vistoria-do-detran-10190355.html</sup>\n",
    "\n",
    "Essa matéria lista 14 itens que são inspecionados pelo Detran, dentre os quais têm-se: extintor de incêndio deve estar dentro do prazo de validade; pneus devem estar em bom estado de conservação; buzina deve funcionar perfeitamente; e cintos de segurança para todos os ocupantes do carro. Se, no final das contas, todos os 14 itens estiverem funcionando perfeitamente, o motorista irá feliz para casa assegurado de que seu carro está sem problemas com a vistoria.\n",
    "\n",
    "1. A base de dados `Carros.txt` apresenta, para cada um dos três mil carros de passeio vistoriados, duas informações: tipo de carro (1: Popular e 2: Não Popular) e quantidade de itens vistoriados em não conformidade (que pode variar de 0 a 14). \n",
    "    1. Considerando todos os carros, analise a quantidade de itens vistoriados em não conformidade. Pela tabela de frequências relativas, calcule a média e variância dessa quantidade. Interprete-os.\n",
    "    2. Assuma que a variável *Quantidade de itens em não conformidade* possa ser ajustada pelo modelo Binomial com parâmetros $n=14$ e $p=0,10$. Interprete esses parâmetros para o problema em questão e, ainda, discuta se as propriedades da distribuição Binomial estão satisfeitas para o problema aqui me questão.\n",
    "    \n",
    "    **Independente da sua resposta anterior, considere que a distribuição binomial seja adequada para modelar a variável de interesse nos próximos itens!**\n",
    "    3. Utilizando o método `stats.binom.pmf`, obtenha a probabilidade de cada uma das quantidades de itens em não conformidade quando $n=14$ e $p=0,10$. Calcule o valor esperado e a variância da quantidade de itens em não conformidade utilizando o método `stats.binom.stats` e via resultado da Tabela 4.4 do Magalhães e Lima (pág. 125).\n",
    "    4. Compare as probabilidades teóricas com as frequências relativas observadas nos dados. Para isso, tem-se, por exemplo, as duas opções abaixo para comparar se os resultados empíricos se encaixam com o modelo teórico proposto. \n",
    "        - A primeira opção gráfica contrasta a frequência relativa e a probabilidade teórica para uma determinada quantidade de itens em não conformidade! Vide Figura 3.4 do livro Magalhães e Lima (pág. 87). Ou seja, essa opção contrasta a frequência relativa em um valor de $y$ e a probabilidade pontual $P(Y=y)$.\n",
    "        - A segunda contrasta a frequência relativa acumulada com a probabilidade acumulada até determinada quantidade de itens em não conformidade. Ou seja, compara a frequência relativa acumulada até $y$ com a probabilidade acumulada $P(Y\\leq y)$.\n",
    "    Construa os gráficos de acordo com as duas opções e refine sua conclusão quanto ao uso do modelo teórico para ajustar a variável em questão!\n",
    "    5. Na prática, qual a necessidade de um modelo probabilístico já que se têm os dados observados?\n",
    "    6. Considerando apenas os carros populares, o modelo Binomial com parâmetros $n=14$ e $p=0,10$ é adequado para ajustar a variável Quantidade de itens em não conformidade? Se sim, justifique; caso não, sugira novos valores para os parâmetros da distribuição ajuste aos dados."
   ]
  },
  {
   "cell_type": "code",
   "execution_count": 4,
   "metadata": {
    "collapsed": false
   },
   "outputs": [
    {
     "name": "stdout",
     "output_type": "stream",
     "text": [
      "Esperamos trabalhar no diretório\n",
      "C:\\Users\\Leonardo Andrade\\Documents\\Insper\\2° Semestre\\Ciência dos Dados\n"
     ]
    }
   ],
   "source": [
    "import os\n",
    "print('Esperamos trabalhar no diretório')\n",
    "print(os.getcwd())\n",
    "carros = pd.read_table('Carros.txt', sep=' ')"
   ]
  },
  {
   "cell_type": "code",
   "execution_count": 5,
   "metadata": {
    "collapsed": false
   },
   "outputs": [],
   "source": [
    "carros['Tipo'] = carros.iloc[0:3001, 0]\n",
    "carros['Quantidade'] = carros.iloc[0:3001, 1]"
   ]
  },
  {
   "cell_type": "markdown",
   "metadata": {},
   "source": [
    "A."
   ]
  },
  {
   "cell_type": "code",
   "execution_count": 24,
   "metadata": {
    "collapsed": false
   },
   "outputs": [
    {
     "name": "stdout",
     "output_type": "stream",
     "text": [
      "Total de intens vistoriados que não estão em conformidade: 4114\n",
      "\n",
      "Frequência relativa de carros por número de intens em não conformidade:\n",
      "0 itens em não conformidade: 28.799999999999997% carros\n",
      "1 itens em não conformidade: 31.666666666666664% carros\n",
      "2 itens em não conformidade: 22.133333333333333% carros\n",
      "3 itens em não conformidade: 10.833333333333334% carros\n",
      "4 itens em não conformidade: 4.633333333333333% carros\n",
      "5 itens em não conformidade: 1.5666666666666667% carros\n",
      "6 itens em não conformidade: 0.26666666666666666% carros\n",
      "7 itens em não conformidade: 0.06666666666666667% carros\n",
      "8 itens em não conformidade: 0.03333333333333333% carros\n",
      "Esperança = 1.3713333333333333\n",
      "Variância = 1.533564278962963\n"
     ]
    }
   ],
   "source": [
    "total_nao_conformidade = 0\n",
    "for i in carros.Quantidade:\n",
    "    total_nao_conformidade += i\n",
    "print(\"Total de intens vistoriados que não estão em conformidade: {0}\" .format(total_nao_conformidade))\n",
    "print(\"\")\n",
    "frequencia_itens = {}\n",
    "for i in carros.Quantidade:\n",
    "    if i in frequencia_itens:\n",
    "        frequencia_itens[i] += 1\n",
    "    else:\n",
    "        frequencia_itens[i] = 1\n",
    "\n",
    "print('Frequência relativa de carros por número de intens em não conformidade:')\n",
    "for i in frequencia_itens:\n",
    "    print(\"{0} itens em não conformidade: {1}% carros\" .format(i, (frequencia_itens[i]/3000)*100))\n",
    "\n",
    "E = 0\n",
    "Var = 0\n",
    "for i in frequencia_itens:\n",
    "    E += i*(frequencia_itens[i]/3000)\n",
    "    Var += ((i - E)**2)*(frequencia_itens[i]/3000)\n",
    "print(\"Esperança = {0}\" .format(E))\n",
    "print(\"Variância = {0}\" .format(Var))"
   ]
  },
  {
   "cell_type": "markdown",
   "metadata": {},
   "source": [
    "B."
   ]
  },
  {
   "cell_type": "markdown",
   "metadata": {
    "collapsed": true
   },
   "source": [
    "\"n\" é o parâmetro que define a quantidade de vezes que avaliou-se um carro, enquanto p é o parâmetro que define a probabilidade de um intem qualquer avaliado não estar em conformidade.\n",
    "O problema em questão satisfaz as propriedades da distribuição Binomial devido às suas seguintes características:\n",
    "-É uma contagem de repetições identicas;\n",
    "-Para cada item avaliado há apenas duas possibilidades: pode estar em conformidade ou não;\n",
    "-A probabilidade de um item não estar em conformidade é 0.1, enquanto a probabilidade dele estar em conformidade é 0.9, ou seja, 1 - 0.1;\n",
    "-Todas as análises são independentes, bem como todos os item avaliados."
   ]
  },
  {
   "cell_type": "markdown",
   "metadata": {},
   "source": [
    "C."
   ]
  },
  {
   "cell_type": "code",
   "execution_count": 7,
   "metadata": {
    "collapsed": false
   },
   "outputs": [
    {
     "name": "stdout",
     "output_type": "stream",
     "text": [
      "Probabilidade por número de itens em não conformidade:\n",
      "0 itens: 0.22876792454960998\n",
      "1 itens: 0.3558612159660614\n",
      "2 itens: 0.2570108781977114\n",
      "3 itens: 0.11422705697676022\n",
      "4 itens: 0.03490271185401001\n",
      "5 itens: 0.007756158189780027\n",
      "6 itens: 0.0012926930316300015\n",
      "7 itens: 0.0001641514960800007\n",
      "8 itens: 1.5959173230000058e-05\n",
      "9 itens: 1.1821609800000021e-06\n",
      "10 itens: 6.56756100000003e-08\n",
      "11 itens: 2.653560000000011e-09\n",
      "12 itens: 7.371000000000037e-11\n",
      "13 itens: 1.2600000000000108e-12\n",
      "14 itens: 1.0000000000000058e-14\n",
      "\n",
      "Esperança: 1.4000000000000001\n",
      "Variância: 1.2600000000000002\n"
     ]
    }
   ],
   "source": [
    "print(\"Probabilidade por número de itens em não conformidade:\")\n",
    "for y in range(0, 15):\n",
    "    print(\"{0} itens: {1}\" .format(y, stats.binom.pmf(y, 14, 0.1)))\n",
    "print(\"\")    \n",
    "print(\"Esperança: {0}\" .format(stats.binom.stats(14, 0.1, moments='mv')[0]))\n",
    "print(\"Variância: {0}\" .format(stats.binom.stats(14, 0.1, moments='mv')[1]))"
   ]
  },
  {
   "cell_type": "markdown",
   "metadata": {},
   "source": [
    "D."
   ]
  },
  {
   "cell_type": "code",
   "execution_count": 60,
   "metadata": {
    "collapsed": false
   },
   "outputs": [
    {
     "name": "stdout",
     "output_type": "stream",
     "text": [
      "[0.288, 0.31666666666666665, 0.22133333333333333, 0.10833333333333334, 0.04633333333333333, 0.015666666666666666, 0.0026666666666666666, 0.0006666666666666666, 0.0003333333333333333, 0, 0, 0, 0, 0, 0]\n",
      "[0.22876792454960998, 0.35586121596606141, 0.2570108781977114, 0.11422705697676022, 0.034902711854010011, 0.0077561581897800267, 0.0012926930316300015, 0.00016415149608000069, 1.5959173230000058e-05, 1.1821609800000021e-06, 6.5675610000000304e-08, 2.6535600000000108e-09, 7.3710000000000372e-11, 1.2600000000000108e-12, 1.0000000000000058e-14]\n"
     ]
    },
    {
     "data": {
      "image/png": "[encoded data removed]",
      "text/plain": [
       "<matplotlib.figure.Figure at 0x1f69d3021d0>"
      ]
     },
     "metadata": {},
     "output_type": "display_data"
    }
   ],
   "source": [
    "lista_frequencias = []\n",
    "lista_probabilidades = []\n",
    "for i in range(0, 15):\n",
    "    if i in frequencia_itens:\n",
    "        lista_frequencias.append(frequencia_itens[i]/3000)\n",
    "    else:\n",
    "        lista_frequencias.append(0)\n",
    "    lista_probabilidades.append(stats.binom.pmf(i, 14, 0.1))\n",
    "\n",
    "print(lista_frequencias)\n",
    "print(lista_probabilidades)\n",
    "\n",
    "# grafico 1:\n",
    "frequencias = pd.Series(lista_frequencias)\n",
    "probabilidades = pd.Series(lista_probabilidades)\n",
    "intervalo = arange(0,15)\n",
    "\n",
    "frequencias.plot(kind = 'bar', color = 'g')\n",
    "plt.ylabel('Freq.Relativa e Probabilidade(em%)')\n",
    "plt.xlabel('Itens em não conformidade')\n",
    "#plt.show()\n",
    "probabilidades.plot(marker='o')\n",
    "plt.show()"
   ]
  },
  {
   "cell_type": "markdown",
   "metadata": {},
   "source": [
    "E."
   ]
  },
  {
   "cell_type": "markdown",
   "metadata": {},
   "source": [
    "O modelo probabilístico é importante pois, nem sempre se têm os dados empíricos. Assim, com o modelo é possível fazer análises prévias e previsões antes mesmo de se obter dados reais."
   ]
  },
  {
   "cell_type": "markdown",
   "metadata": {},
   "source": [
    "F."
   ]
  },
  {
   "cell_type": "code",
   "execution_count": 9,
   "metadata": {
    "collapsed": false
   },
   "outputs": [
    {
     "name": "stdout",
     "output_type": "stream",
     "text": [
      "Total de intens vistoriados que não estão em conformidade: 4114\n",
      "\n",
      "Frequência relativa de carros por número de intens em não conformidade:\n",
      "0 itens em não conformidade: 14.944444444444443% carros\n",
      "1 itens em não conformidade: 28.388888888888893% carros\n",
      "2 itens em não conformidade: 29.5% carros\n",
      "3 itens em não conformidade: 16.666666666666664% carros\n",
      "4 itens em não conformidade: 7.277777777777778% carros\n",
      "5 itens em não conformidade: 2.611111111111111% carros\n",
      "6 itens em não conformidade: 0.4444444444444444% carros\n",
      "7 itens em não conformidade: 0.1111111111111111% carros\n",
      "8 itens em não conformidade: 0.05555555555555555% carros\n",
      "\n",
      "Probabilidade por número de itens em não conformidade:\n",
      "0 itens: 22.876792454961%\n",
      "1 itens: 35.58612159660614%\n",
      "2 itens: 25.70108781977114%\n",
      "3 itens: 11.422705697676022%\n",
      "4 itens: 3.490271185401001%\n",
      "5 itens: 0.7756158189780027%\n",
      "6 itens: 0.12926930316300014%\n",
      "7 itens: 0.01641514960800007%\n",
      "8 itens: 0.0015959173230000057%\n",
      "9 itens: 0.00011821609800000021%\n",
      "10 itens: 6.56756100000003e-06%\n",
      "11 itens: 2.653560000000011e-07%\n",
      "12 itens: 7.3710000000000375e-09%\n",
      "13 itens: 1.260000000000011e-10%\n",
      "14 itens: 1.0000000000000058e-12%\n"
     ]
    }
   ],
   "source": [
    "# Dados reais:\n",
    "total_carros_pop = 0\n",
    "for i in carros.Quantidade[carros.Tipo == 1]:\n",
    "    total_carros_pop += 1\n",
    "print(\"Total de intens vistoriados que não estão em conformidade: {0}\" .format(total_nao_conformidade))\n",
    "print(\"\")\n",
    "frequencia_itens = {}\n",
    "for i in carros.Quantidade[carros.Tipo == 1]:\n",
    "    if i in frequencia_itens:\n",
    "        frequencia_itens[i] += 1\n",
    "    else:\n",
    "        frequencia_itens[i] = 1\n",
    "\n",
    "print('Frequência relativa de carros por número de intens em não conformidade:')\n",
    "for i in frequencia_itens:\n",
    "    print(\"{0} itens em não conformidade: {1}% carros\" .format(i, (frequencia_itens[i]/total_carros_pop)*100))\n",
    "    \n",
    "print('')\n",
    "\n",
    "# Modelo Binomial:\n",
    "print(\"Probabilidade por número de itens em não conformidade:\")\n",
    "for y in range(0, 15):\n",
    "    print(\"{0} itens: {1}%\" .format(y, 100*stats.binom.pmf(y, 14, 0.1)))"
   ]
  },
  {
   "cell_type": "markdown",
   "metadata": {},
   "source": [
    "Os valores determinados para o modelo Binomial se tornam imprecisos para a análise, já que um carro popular possui muito mais chances de ter algum item em não conformidade. Dessa forma, seria necessário aumentar o valor de p para que o modelo probabilístico se aproxime dos dados reais."
   ]
  },
  {
   "cell_type": "code",
   "execution_count": null,
   "metadata": {
    "collapsed": true
   },
   "outputs": [],
   "source": []
  }
 ],
 "metadata": {
  "anaconda-cloud": {},
  "kernelspec": {
   "display_name": "Python [Root]",
   "language": "python",
   "name": "Python [Root]"
  },
  "language_info": {
   "codemirror_mode": {
    "name": "ipython",
    "version": 3
   },
   "file_extension": ".py",
   "mimetype": "text/x-python",
   "name": "python",
   "nbconvert_exporter": "python",
   "pygments_lexer": "ipython3",
   "version": "3.5.2"
  }
 },
 "nbformat": 4,
 "nbformat_minor": 0
}
