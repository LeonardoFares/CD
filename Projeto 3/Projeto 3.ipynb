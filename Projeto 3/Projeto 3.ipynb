{
 "cells": [
  {
   "cell_type": "markdown",
   "metadata": {
    "collapsed": true
   },
   "source": [
    "# Ciência dos Dados - Projeto 3\n",
    "\n",
    "#### Bruno Bitelli e Leonardo Andrade, 2° B\n",
    "_____"
   ]
  },
  {
   "cell_type": "markdown",
   "metadata": {},
   "source": [
    "## Introdução: \n",
    "\n",
    "Neste trabalho será realizada uma análise de regressão múltipla. Como variável resposta foi escolhida a taxa de adultos empregados de diferentes países, e como variáveis explicativas a idade mediana e o PIB per capita de cada um deles. Realizaremos uma análise descritiva dos dados obtidos via Gapminder, com o intuito de responder a seguinte pergunta:\n",
    "\n",
    "       Como a idade da maioria da população e seu PIB/capita podem afetar a taxa de pessoas empregadas em um país?"
   ]
  },
  {
   "cell_type": "markdown",
   "metadata": {},
   "source": [
    "## Construção da base de dados:"
   ]
  },
  {
   "cell_type": "code",
   "execution_count": 12,
   "metadata": {
    "collapsed": true
   },
   "outputs": [],
   "source": [
    "%matplotlib inline\n",
    "import pandas as pd\n",
    "import matplotlib.pyplot as plt\n",
    "import numpy as np\n",
    "import math\n",
    "import os"
   ]
  },
  {
   "cell_type": "code",
   "execution_count": 13,
   "metadata": {
    "collapsed": false
   },
   "outputs": [],
   "source": [
    "dados_mortalidade_infantil = pd.read_excel(\"under5mortality.xlsx\", index_col = 0)\n",
    "dados_gastos_governo = pd.read_excel(\"indicator_per-capita-government-expenditure-on-health-at-average-exchange-rate-us.xlsx\", index_col = 0)\n",
    "dados_fertilidade = pd.read_excel(\"total_fertility.xlsx\", index_col = 0)"
   ]
  },
  {
   "cell_type": "code",
   "execution_count": 14,
   "metadata": {
    "collapsed": false
   },
   "outputs": [],
   "source": [
    "mortalidade_infantil = dados_mortalidade_infantil.iloc[:,216:217]"
   ]
  },
  {
   "cell_type": "code",
   "execution_count": 15,
   "metadata": {
    "collapsed": false
   },
   "outputs": [
    {
     "data": {
      "text/html": [
       "<div>\n",
       "<table border=\"1\" class=\"dataframe\">\n",
       "  <thead>\n",
       "    <tr style=\"text-align: right;\">\n",
       "      <th></th>\n",
       "      <th>mortalidade_infantil_2010</th>\n",
       "    </tr>\n",
       "    <tr>\n",
       "      <th>Under five mortality</th>\n",
       "      <th></th>\n",
       "    </tr>\n",
       "  </thead>\n",
       "  <tbody>\n",
       "    <tr>\n",
       "      <th>Abkhazia</th>\n",
       "      <td>NaN</td>\n",
       "    </tr>\n",
       "    <tr>\n",
       "      <th>Afghanistan</th>\n",
       "      <td>2.021189</td>\n",
       "    </tr>\n",
       "    <tr>\n",
       "      <th>Akrotiri and Dhekelia</th>\n",
       "      <td>NaN</td>\n",
       "    </tr>\n",
       "    <tr>\n",
       "      <th>Albania</th>\n",
       "      <td>2.809403</td>\n",
       "    </tr>\n",
       "    <tr>\n",
       "      <th>Algeria</th>\n",
       "      <td>3.310543</td>\n",
       "    </tr>\n",
       "  </tbody>\n",
       "</table>\n",
       "</div>"
      ],
      "text/plain": [
       "                       mortalidade_infantil_2010\n",
       "Under five mortality                            \n",
       "Abkhazia                                     NaN\n",
       "Afghanistan                             2.021189\n",
       "Akrotiri and Dhekelia                        NaN\n",
       "Albania                                 2.809403\n",
       "Algeria                                 3.310543"
      ]
     },
     "execution_count": 15,
     "metadata": {},
     "output_type": "execute_result"
    }
   ],
   "source": [
    "mortalidade_infantil.head()"
   ]
  },
  {
   "cell_type": "code",
   "execution_count": 16,
   "metadata": {
    "collapsed": false
   },
   "outputs": [],
   "source": [
    "gastos_governo = dados_gastos_governo.iloc[:, 16:17]"
   ]
  },
  {
   "cell_type": "code",
   "execution_count": 17,
   "metadata": {
    "collapsed": false
   },
   "outputs": [
    {
     "data": {
      "text/html": [
       "<div>\n",
       "<table border=\"1\" class=\"dataframe\">\n",
       "  <thead>\n",
       "    <tr style=\"text-align: right;\">\n",
       "      <th></th>\n",
       "      <th>gastos_governo_2010</th>\n",
       "    </tr>\n",
       "    <tr>\n",
       "      <th>Per capita government expenditure on health at average exchange rate (US$)</th>\n",
       "      <th></th>\n",
       "    </tr>\n",
       "  </thead>\n",
       "  <tbody>\n",
       "    <tr>\n",
       "      <th>Abkhazia</th>\n",
       "      <td>NaN</td>\n",
       "    </tr>\n",
       "    <tr>\n",
       "      <th>Afghanistan</th>\n",
       "      <td>1.479422</td>\n",
       "    </tr>\n",
       "    <tr>\n",
       "      <th>Akrotiri and Dhekelia</th>\n",
       "      <td>NaN</td>\n",
       "    </tr>\n",
       "    <tr>\n",
       "      <th>Albania</th>\n",
       "      <td>4.543546</td>\n",
       "    </tr>\n",
       "    <tr>\n",
       "      <th>Algeria</th>\n",
       "      <td>4.933329</td>\n",
       "    </tr>\n",
       "  </tbody>\n",
       "</table>\n",
       "</div>"
      ],
      "text/plain": [
       "                                                    gastos_governo_2010\n",
       "Per capita government expenditure on health at ...                     \n",
       "Abkhazia                                                            NaN\n",
       "Afghanistan                                                    1.479422\n",
       "Akrotiri and Dhekelia                                               NaN\n",
       "Albania                                                        4.543546\n",
       "Algeria                                                        4.933329"
      ]
     },
     "execution_count": 17,
     "metadata": {},
     "output_type": "execute_result"
    }
   ],
   "source": [
    "gastos_governo.head()"
   ]
  },
  {
   "cell_type": "code",
   "execution_count": 18,
   "metadata": {
    "collapsed": false
   },
   "outputs": [],
   "source": [
    "fertilidade = dados_fertilidade.iloc[:,216:217]"
   ]
  },
  {
   "cell_type": "code",
   "execution_count": 19,
   "metadata": {
    "collapsed": false
   },
   "outputs": [
    {
     "data": {
      "text/html": [
       "<div>\n",
       "<table border=\"1\" class=\"dataframe\">\n",
       "  <thead>\n",
       "    <tr style=\"text-align: right;\">\n",
       "      <th></th>\n",
       "      <th>fertilidade_2010</th>\n",
       "    </tr>\n",
       "    <tr>\n",
       "      <th>Total fertility rate</th>\n",
       "      <th></th>\n",
       "    </tr>\n",
       "  </thead>\n",
       "  <tbody>\n",
       "    <tr>\n",
       "      <th>Abkhazia</th>\n",
       "      <td>NaN</td>\n",
       "    </tr>\n",
       "    <tr>\n",
       "      <th>Afghanistan</th>\n",
       "      <td>1.733424</td>\n",
       "    </tr>\n",
       "    <tr>\n",
       "      <th>Akrotiri and Dhekelia</th>\n",
       "      <td>NaN</td>\n",
       "    </tr>\n",
       "    <tr>\n",
       "      <th>Albania</th>\n",
       "      <td>0.553885</td>\n",
       "    </tr>\n",
       "    <tr>\n",
       "      <th>Algeria</th>\n",
       "      <td>1.036737</td>\n",
       "    </tr>\n",
       "  </tbody>\n",
       "</table>\n",
       "</div>"
      ],
      "text/plain": [
       "                       fertilidade_2010\n",
       "Total fertility rate                   \n",
       "Abkhazia                            NaN\n",
       "Afghanistan                    1.733424\n",
       "Akrotiri and Dhekelia               NaN\n",
       "Albania                        0.553885\n",
       "Algeria                        1.036737"
      ]
     },
     "execution_count": 19,
     "metadata": {},
     "output_type": "execute_result"
    }
   ],
   "source": [
    "fertilidade.head()"
   ]
  },
  {
   "cell_type": "code",
   "execution_count": 20,
   "metadata": {
    "collapsed": false
   },
   "outputs": [],
   "source": [
    "dados = mortalidade_infantil.join(gastos_governo, how='outer')\n",
    "dados = dados.join(fertilidade, how='outer')"
   ]
  },
  {
   "cell_type": "code",
   "execution_count": 21,
   "metadata": {
    "collapsed": false
   },
   "outputs": [
    {
     "data": {
      "text/html": [
       "<div>\n",
       "<table border=\"1\" class=\"dataframe\">\n",
       "  <thead>\n",
       "    <tr style=\"text-align: right;\">\n",
       "      <th></th>\n",
       "      <th>mortalidade_infantil_2010</th>\n",
       "      <th>gastos_governo_2010</th>\n",
       "      <th>fertilidade_2010</th>\n",
       "    </tr>\n",
       "  </thead>\n",
       "  <tbody>\n",
       "    <tr>\n",
       "      <th>Afghanistan</th>\n",
       "      <td>2.021189</td>\n",
       "      <td>1.479422</td>\n",
       "      <td>1.733424</td>\n",
       "    </tr>\n",
       "    <tr>\n",
       "      <th>Albania</th>\n",
       "      <td>2.809403</td>\n",
       "      <td>4.543546</td>\n",
       "      <td>0.553885</td>\n",
       "    </tr>\n",
       "    <tr>\n",
       "      <th>Algeria</th>\n",
       "      <td>3.310543</td>\n",
       "      <td>4.933329</td>\n",
       "      <td>1.036737</td>\n",
       "    </tr>\n",
       "    <tr>\n",
       "      <th>Angola</th>\n",
       "      <td>5.206750</td>\n",
       "      <td>4.620960</td>\n",
       "      <td>1.827770</td>\n",
       "    </tr>\n",
       "    <tr>\n",
       "      <th>Antigua and Barbuda</th>\n",
       "      <td>2.292535</td>\n",
       "      <td>6.193294</td>\n",
       "      <td>0.756122</td>\n",
       "    </tr>\n",
       "  </tbody>\n",
       "</table>\n",
       "</div>"
      ],
      "text/plain": [
       "                     mortalidade_infantil_2010  gastos_governo_2010  \\\n",
       "Afghanistan                           2.021189             1.479422   \n",
       "Albania                               2.809403             4.543546   \n",
       "Algeria                               3.310543             4.933329   \n",
       "Angola                                5.206750             4.620960   \n",
       "Antigua and Barbuda                   2.292535             6.193294   \n",
       "\n",
       "                     fertilidade_2010  \n",
       "Afghanistan                  1.733424  \n",
       "Albania                      0.553885  \n",
       "Algeria                      1.036737  \n",
       "Angola                       1.827770  \n",
       "Antigua and Barbuda          0.756122  "
      ]
     },
     "execution_count": 21,
     "metadata": {},
     "output_type": "execute_result"
    }
   ],
   "source": [
    "dados = dados[~np.isnan(dados.mortalidade_infantil_2010)]\n",
    "dados = dados[~np.isnan(dados.gastos_governo_2010)]\n",
    "dados = dados[~np.isnan(dados.fertilidade_2010)]\n",
    "dados.head()"
   ]
  },
  {
   "cell_type": "code",
   "execution_count": 22,
   "metadata": {
    "collapsed": false
   },
   "outputs": [
    {
     "data": {
      "text/html": [
       "<div>\n",
       "<table border=\"1\" class=\"dataframe\">\n",
       "  <thead>\n",
       "    <tr style=\"text-align: right;\">\n",
       "      <th></th>\n",
       "      <th>mortalidade_infantil_2010</th>\n",
       "      <th>gastos_governo_2010</th>\n",
       "      <th>fertilidade_2010</th>\n",
       "    </tr>\n",
       "  </thead>\n",
       "  <tbody>\n",
       "    <tr>\n",
       "      <th>Vanuatu</th>\n",
       "      <td>3.349904</td>\n",
       "      <td>4.959797</td>\n",
       "      <td>1.252763</td>\n",
       "    </tr>\n",
       "    <tr>\n",
       "      <th>Venezuela</th>\n",
       "      <td>2.809403</td>\n",
       "      <td>5.444660</td>\n",
       "      <td>0.904218</td>\n",
       "    </tr>\n",
       "    <tr>\n",
       "      <th>Vietnam</th>\n",
       "      <td>3.210844</td>\n",
       "      <td>3.445529</td>\n",
       "      <td>0.598837</td>\n",
       "    </tr>\n",
       "    <tr>\n",
       "      <th>Yemen</th>\n",
       "      <td>4.074142</td>\n",
       "      <td>2.725867</td>\n",
       "      <td>1.504077</td>\n",
       "    </tr>\n",
       "    <tr>\n",
       "      <th>Zambia</th>\n",
       "      <td>4.440296</td>\n",
       "      <td>3.782644</td>\n",
       "      <td>1.759581</td>\n",
       "    </tr>\n",
       "  </tbody>\n",
       "</table>\n",
       "</div>"
      ],
      "text/plain": [
       "           mortalidade_infantil_2010  gastos_governo_2010  fertilidade_2010\n",
       "Vanuatu                     3.349904             4.959797          1.252763\n",
       "Venezuela                   2.809403             5.444660          0.904218\n",
       "Vietnam                     3.210844             3.445529          0.598837\n",
       "Yemen                       4.074142             2.725867          1.504077\n",
       "Zambia                      4.440296             3.782644          1.759581"
      ]
     },
     "execution_count": 22,
     "metadata": {},
     "output_type": "execute_result"
    }
   ],
   "source": [
    "dados.tail()"
   ]
  },
  {
   "cell_type": "code",
   "execution_count": 24,
   "metadata": {
    "collapsed": false
   },
   "outputs": [
    {
     "data": {
      "text/plain": [
       "(176, 3)"
      ]
     },
     "execution_count": 24,
     "metadata": {},
     "output_type": "execute_result"
    }
   ],
   "source": [
    "dados.shape"
   ]
  },
  {
   "cell_type": "markdown",
   "metadata": {},
   "source": [
    "## Análise descritiva"
   ]
  },
  {
   "cell_type": "code",
   "execution_count": 26,
   "metadata": {
    "collapsed": false
   },
   "outputs": [
    {
     "data": {
      "text/plain": [
       "<matplotlib.text.Text at 0x2826ebaeeb8>"
      ]
     },
     "execution_count": 26,
     "metadata": {},
     "output_type": "execute_result"
    },
    {
     "data": {
      "image/png": "[encoded data removed]",
      "text/plain": [
       "<matplotlib.figure.Figure at 0x2826eb9fb70>"
      ]
     },
     "metadata": {},
     "output_type": "display_data"
    }
   ],
   "source": [
    "# Plotando os gráficos de dispersão.\n",
    "plt.plot(dados.gastos_governo_2010,dados.mortalidade_infantil_2010,'o')\n",
    "plt.xlabel('Gastos do Governo na Saúde (US$)')\n",
    "plt.ylabel(\"Mortalidade infantil (crianças de 0-5 anos a cada 1000 nascidas)\")"
   ]
  },
  {
   "cell_type": "code",
   "execution_count": 27,
   "metadata": {
    "collapsed": false
   },
   "outputs": [
    {
     "data": {
      "text/plain": [
       "<matplotlib.text.Text at 0x28270631eb8>"
      ]
     },
     "execution_count": 27,
     "metadata": {},
     "output_type": "execute_result"
    },
    {
     "data": {
      "image/png": "[encoded data removed]",
      "text/plain": [
       "<matplotlib.figure.Figure at 0x2826ee1a6d8>"
      ]
     },
     "metadata": {},
     "output_type": "display_data"
    }
   ],
   "source": [
    "plt.plot(dados.fertilidade_2010,dados.mortalidade_infantil_2010,'o')\n",
    "plt.xlabel(\"Fertilidade (criança por mulher)\")\n",
    "plt.ylabel(\"Mortalidade infantil (crianças de 0-5 anos a cada 1000 nascidas)\")"
   ]
  },
  {
   "cell_type": "code",
   "execution_count": 28,
   "metadata": {
    "collapsed": false
   },
   "outputs": [
    {
     "data": {
      "text/html": [
       "<div>\n",
       "<table border=\"1\" class=\"dataframe\">\n",
       "  <thead>\n",
       "    <tr style=\"text-align: right;\">\n",
       "      <th></th>\n",
       "      <th>mortalidade_infantil_2010</th>\n",
       "      <th>gastos_governo_2010</th>\n",
       "      <th>fertilidade_2010</th>\n",
       "    </tr>\n",
       "  </thead>\n",
       "  <tbody>\n",
       "    <tr>\n",
       "      <th>mortalidade_infantil_2010</th>\n",
       "      <td>1.000000</td>\n",
       "      <td>-0.853822</td>\n",
       "      <td>0.830466</td>\n",
       "    </tr>\n",
       "    <tr>\n",
       "      <th>gastos_governo_2010</th>\n",
       "      <td>-0.853822</td>\n",
       "      <td>1.000000</td>\n",
       "      <td>-0.726404</td>\n",
       "    </tr>\n",
       "    <tr>\n",
       "      <th>fertilidade_2010</th>\n",
       "      <td>0.830466</td>\n",
       "      <td>-0.726404</td>\n",
       "      <td>1.000000</td>\n",
       "    </tr>\n",
       "  </tbody>\n",
       "</table>\n",
       "</div>"
      ],
      "text/plain": [
       "                           mortalidade_infantil_2010  gastos_governo_2010  \\\n",
       "mortalidade_infantil_2010                   1.000000            -0.853822   \n",
       "gastos_governo_2010                        -0.853822             1.000000   \n",
       "fertilidade_2010                            0.830466            -0.726404   \n",
       "\n",
       "                           fertilidade_2010  \n",
       "mortalidade_infantil_2010          0.830466  \n",
       "gastos_governo_2010               -0.726404  \n",
       "fertilidade_2010                   1.000000  "
      ]
     },
     "execution_count": 28,
     "metadata": {},
     "output_type": "execute_result"
    }
   ],
   "source": [
    "# Verificando a correlação entre as variáveis.\n",
    "dados.corr(method='pearson')"
   ]
  }
 ],
 "metadata": {
  "anaconda-cloud": {},
  "kernelspec": {
   "display_name": "Python [Root]",
   "language": "python",
   "name": "Python [Root]"
  },
  "language_info": {
   "codemirror_mode": {
    "name": "ipython",
    "version": 3
   },
   "file_extension": ".py",
   "mimetype": "text/x-python",
   "name": "python",
   "nbconvert_exporter": "python",
   "pygments_lexer": "ipython3",
   "version": "3.5.2"
  }
 },
 "nbformat": 4,
 "nbformat_minor": 0
}
